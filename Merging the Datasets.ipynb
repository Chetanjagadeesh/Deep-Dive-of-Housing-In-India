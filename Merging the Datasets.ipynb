{
 "cells": [
  {
   "cell_type": "code",
   "execution_count": 2,
   "id": "a2d3def6",
   "metadata": {},
   "outputs": [],
   "source": [
    "import pandas as pd"
   ]
  },
  {
   "cell_type": "code",
   "execution_count": 3,
   "id": "f857d6c2",
   "metadata": {},
   "outputs": [
    {
     "data": {
      "text/plain": [
       "(87, 148)"
      ]
     },
     "execution_count": 3,
     "metadata": {},
     "output_type": "execute_result"
    }
   ],
   "source": [
    "master_df = pd.read_excel('./dataset/dataset0.xlsx', engine='openpyxl')\n",
    "master_df.shape"
   ]
  },
  {
   "cell_type": "code",
   "execution_count": 4,
   "id": "d83b70b4",
   "metadata": {
    "collapsed": true
   },
   "outputs": [
    {
     "name": "stdout",
     "output_type": "stream",
     "text": [
      "Finished 0 records\n",
      "Finished 10 records\n",
      "Finished 20 records\n",
      "Finished 30 records\n",
      "Finished 40 records\n",
      "Finished 50 records\n",
      "Finished 60 records\n",
      "Finished 70 records\n",
      "Finished 80 records\n",
      "Finished 90 records\n",
      "Finished 100 records\n",
      "Finished 110 records\n",
      "Finished 120 records\n",
      "Finished 130 records\n",
      "Finished 140 records\n",
      "Finished 150 records\n",
      "Finished 160 records\n",
      "Finished 170 records\n",
      "Finished 180 records\n",
      "Finished 190 records\n",
      "Finished 200 records\n",
      "Finished 210 records\n",
      "Finished 220 records\n",
      "Finished 230 records\n",
      "Finished 240 records\n",
      "Finished 250 records\n",
      "Finished 260 records\n",
      "Finished 270 records\n",
      "Finished 280 records\n",
      "Finished 290 records\n",
      "Finished 300 records\n",
      "Finished 310 records\n",
      "Finished 320 records\n",
      "Finished 330 records\n",
      "Finished 340 records\n",
      "Finished 350 records\n",
      "Finished 360 records\n",
      "Finished 370 records\n",
      "Finished 380 records\n",
      "Finished 390 records\n",
      "Finished 400 records\n",
      "Finished 410 records\n",
      "Finished 420 records\n",
      "Finished 430 records\n",
      "Finished 440 records\n",
      "Finished 450 records\n",
      "Finished 460 records\n",
      "Finished 470 records\n",
      "Finished 480 records\n",
      "Finished 490 records\n",
      "Finished 500 records\n",
      "Finished 510 records\n",
      "Finished 520 records\n",
      "Finished 530 records\n",
      "Finished 540 records\n",
      "Finished 550 records\n",
      "Finished 560 records\n",
      "Finished 570 records\n",
      "Finished 580 records\n",
      "Finished 590 records\n",
      "Finished 600 records\n",
      "Finished 610 records\n",
      "Finished 620 records\n",
      "Finished 630 records\n"
     ]
    },
    {
     "data": {
      "text/plain": [
       "640"
      ]
     },
     "execution_count": 4,
     "metadata": {},
     "output_type": "execute_result"
    }
   ],
   "source": [
    "df_list = []\n",
    "for i in range(640):\n",
    "    df = pd.read_excel(f'./dataset/dataset{i}.xlsx', engine='openpyxl')\n",
    "    df_list.append(df.iloc[6:])\n",
    "    \n",
    "    if(i%10 == 0):\n",
    "        print(f'Finished {i} records')\n",
    "len(df_list)"
   ]
  },
  {
   "cell_type": "code",
   "execution_count": 5,
   "id": "f9cdc46a",
   "metadata": {},
   "outputs": [],
   "source": [
    "master_df = pd.concat(df_list)"
   ]
  },
  {
   "cell_type": "code",
   "execution_count": 6,
   "id": "aa4b17f1",
   "metadata": {},
   "outputs": [
    {
     "data": {
      "text/plain": [
       "(704765, 154)"
      ]
     },
     "execution_count": 6,
     "metadata": {},
     "output_type": "execute_result"
    }
   ],
   "source": [
    "master_df.shape"
   ]
  },
  {
   "cell_type": "code",
   "execution_count": 12,
   "id": "555cb2a4",
   "metadata": {},
   "outputs": [],
   "source": [
    "master_df = master_df.dropna(axis=1)"
   ]
  },
  {
   "cell_type": "code",
   "execution_count": 13,
   "id": "0de096ca",
   "metadata": {},
   "outputs": [
    {
     "data": {
      "text/plain": [
       "(704765, 145)"
      ]
     },
     "execution_count": 13,
     "metadata": {},
     "output_type": "execute_result"
    }
   ],
   "source": [
    "master_df.shape"
   ]
  },
  {
   "cell_type": "code",
   "execution_count": 20,
   "id": "6ab26ab0",
   "metadata": {},
   "outputs": [
    {
     "data": {
      "text/plain": [
       "Series([], dtype: int64)"
      ]
     },
     "execution_count": 20,
     "metadata": {},
     "output_type": "execute_result"
    }
   ],
   "source": [
    "nulls = master_df.isnull().sum()\n",
    "nulls = nulls[nulls>0]\n",
    "nulls"
   ]
  },
  {
   "cell_type": "code",
   "execution_count": 15,
   "id": "3135803f",
   "metadata": {},
   "outputs": [],
   "source": [
    "master_df.to_csv('master_df.csv')"
   ]
  }
 ],
 "metadata": {
  "kernelspec": {
   "display_name": "gpu",
   "language": "python",
   "name": "gpu"
  },
  "language_info": {
   "codemirror_mode": {
    "name": "ipython",
    "version": 3
   },
   "file_extension": ".py",
   "mimetype": "text/x-python",
   "name": "python",
   "nbconvert_exporter": "python",
   "pygments_lexer": "ipython3",
   "version": "3.6.13"
  }
 },
 "nbformat": 4,
 "nbformat_minor": 5
}
